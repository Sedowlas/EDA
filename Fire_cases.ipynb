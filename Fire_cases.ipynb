{
  "cells": [
    {
      "cell_type": "markdown",
      "metadata": {
        "id": "view-in-github",
        "colab_type": "text"
      },
      "source": [
        "<a href=\"https://colab.research.google.com/github/Sedowlas/EDA/blob/main/Fire_cases.ipynb\" target=\"_parent\"><img src=\"https://colab.research.google.com/assets/colab-badge.svg\" alt=\"Open In Colab\"/></a>"
      ]
    },
    {
      "cell_type": "markdown",
      "source": [
        "#Загрузка данных"
      ],
      "metadata": {
        "id": "HrY2Aqy7i1Dr"
      }
    },
    {
      "cell_type": "markdown",
      "metadata": {
        "id": "KIP_a_x-vtF3"
      },
      "source": [
        "https://drive.google.com/file/d/1_40Uw7_k2vJ6BzAVzWe3qkz4k5_dBiZl/view?usp=sharing"
      ]
    },
    {
      "cell_type": "code",
      "execution_count": null,
      "metadata": {
        "colab": {
          "base_uri": "https://localhost:8080/"
        },
        "id": "5ftxk1A0uAna",
        "outputId": "91df52d8-b8c8-44a6-8b93-6194a88438a5"
      },
      "outputs": [
        {
          "output_type": "stream",
          "name": "stdout",
          "text": [
            "/usr/local/lib/python3.7/dist-packages/gdown/cli.py:131: FutureWarning: Option `--id` was deprecated in version 4.3.1 and will be removed in 5.0. You don't need to pass it anymore to use a file ID.\n",
            "  category=FutureWarning,\n",
            "Downloading...\n",
            "From: https://drive.google.com/uc?id=1_40Uw7_k2vJ6BzAVzWe3qkz4k5_dBiZl\n",
            "To: /content/fire_cases_in_uk_last_3_years.csv\n",
            "100% 107M/107M [00:00<00:00, 122MB/s] \n"
          ]
        }
      ],
      "source": [
        "!gdown --id 1_40Uw7_k2vJ6BzAVzWe3qkz4k5_dBiZl"
      ]
    },
    {
      "cell_type": "markdown",
      "source": [
        "#Предобработка"
      ],
      "metadata": {
        "id": "Byd6MV-Ei4Es"
      }
    },
    {
      "cell_type": "code",
      "execution_count": null,
      "metadata": {
        "id": "Xi-rVaP0wmkR"
      },
      "outputs": [],
      "source": [
        "import pandas as pd\n",
        "import numpy as np"
      ]
    },
    {
      "cell_type": "code",
      "execution_count": null,
      "metadata": {
        "id": "BLfhfEQQw1PY"
      },
      "outputs": [],
      "source": [
        "df = pd.read_csv('/content/fire_cases_in_uk_last_3_years.csv')"
      ]
    },
    {
      "cell_type": "code",
      "execution_count": null,
      "metadata": {
        "id": "o85p21QBxSXd",
        "colab": {
          "base_uri": "https://localhost:8080/",
          "height": 473
        },
        "outputId": "d1a591cd-eea1-4ec9-d81c-dbf94dac5e0c"
      },
      "outputs": [
        {
          "output_type": "execute_result",
          "data": {
            "text/plain": [
              "    IncidentNumber   DateOfCall  CalYear TimeOfCall  HourOfCall  \\\n",
              "0  000006-01012019  01 Jan 2019     2019   00:01:45           0   \n",
              "1  000019-01012019  01 Jan 2019     2019   00:04:33           0   \n",
              "2  000020-01012019  01 Jan 2019     2019   00:04:39           0   \n",
              "3  000021-01012019  01 Jan 2019     2019   00:04:44           0   \n",
              "4  000024-01012019  01 Jan 2019     2019   00:05:00           0   \n",
              "\n",
              "     IncidentGroup        StopCodeDescription SpecialServiceType  \\\n",
              "0  Special Service            Special Service       Lift Release   \n",
              "1             Fire             Secondary Fire                NaN   \n",
              "2      False Alarm  False alarm - Good intent                NaN   \n",
              "3      False Alarm                        AFA                NaN   \n",
              "4  Special Service            Special Service       Lift Release   \n",
              "\n",
              "  PropertyCategory                                       PropertyType  ...  \\\n",
              "0         Dwelling  Purpose Built Flats/Maisonettes - 4 to 9 storeys   ...   \n",
              "1          Outdoor                                        Tree scrub   ...   \n",
              "2          Outdoor        Domestic garden (vegetation not equipment)   ...   \n",
              "3         Dwelling             Stately Home (part not open to public)  ...   \n",
              "4         Dwelling  Purpose Built Flats/Maisonettes - 4 to 9 storeys   ...   \n",
              "\n",
              "  FirstPumpArriving_AttendanceTime FirstPumpArriving_DeployedFromStation  \\\n",
              "0                              NaN                                   NaN   \n",
              "1                            357.0                              Edmonton   \n",
              "2                            318.0                             Southgate   \n",
              "3                            210.0                            Kensington   \n",
              "4                            329.0                         Bethnal Green   \n",
              "\n",
              "  SecondPumpArriving_AttendanceTime  SecondPumpArriving_DeployedFromStation  \\\n",
              "0                               NaN                                     NaN   \n",
              "1                               NaN                                     NaN   \n",
              "2                               NaN                                     NaN   \n",
              "3                               NaN                                     NaN   \n",
              "4                               NaN                                     NaN   \n",
              "\n",
              "   NumStationsWithPumpsAttending NumPumpsAttending PumpCount PumpHoursRoundUp  \\\n",
              "0                            1.0               1.0       1.0              1.0   \n",
              "1                            1.0               1.0       1.0              1.0   \n",
              "2                            1.0               1.0       1.0              1.0   \n",
              "3                            1.0               1.0       1.0              1.0   \n",
              "4                            1.0               1.0       1.0              1.0   \n",
              "\n",
              "  Notional Cost (£) NumCalls  \n",
              "0             333.0      2.0  \n",
              "1             333.0      1.0  \n",
              "2             333.0      1.0  \n",
              "3             333.0      1.0  \n",
              "4             333.0      1.0  \n",
              "\n",
              "[5 rows x 39 columns]"
            ],
            "text/html": [
              "\n",
              "  <div id=\"df-d822836c-1fdd-4735-813f-1d5fb35b29ed\">\n",
              "    <div class=\"colab-df-container\">\n",
              "      <div>\n",
              "<style scoped>\n",
              "    .dataframe tbody tr th:only-of-type {\n",
              "        vertical-align: middle;\n",
              "    }\n",
              "\n",
              "    .dataframe tbody tr th {\n",
              "        vertical-align: top;\n",
              "    }\n",
              "\n",
              "    .dataframe thead th {\n",
              "        text-align: right;\n",
              "    }\n",
              "</style>\n",
              "<table border=\"1\" class=\"dataframe\">\n",
              "  <thead>\n",
              "    <tr style=\"text-align: right;\">\n",
              "      <th></th>\n",
              "      <th>IncidentNumber</th>\n",
              "      <th>DateOfCall</th>\n",
              "      <th>CalYear</th>\n",
              "      <th>TimeOfCall</th>\n",
              "      <th>HourOfCall</th>\n",
              "      <th>IncidentGroup</th>\n",
              "      <th>StopCodeDescription</th>\n",
              "      <th>SpecialServiceType</th>\n",
              "      <th>PropertyCategory</th>\n",
              "      <th>PropertyType</th>\n",
              "      <th>...</th>\n",
              "      <th>FirstPumpArriving_AttendanceTime</th>\n",
              "      <th>FirstPumpArriving_DeployedFromStation</th>\n",
              "      <th>SecondPumpArriving_AttendanceTime</th>\n",
              "      <th>SecondPumpArriving_DeployedFromStation</th>\n",
              "      <th>NumStationsWithPumpsAttending</th>\n",
              "      <th>NumPumpsAttending</th>\n",
              "      <th>PumpCount</th>\n",
              "      <th>PumpHoursRoundUp</th>\n",
              "      <th>Notional Cost (£)</th>\n",
              "      <th>NumCalls</th>\n",
              "    </tr>\n",
              "  </thead>\n",
              "  <tbody>\n",
              "    <tr>\n",
              "      <th>0</th>\n",
              "      <td>000006-01012019</td>\n",
              "      <td>01 Jan 2019</td>\n",
              "      <td>2019</td>\n",
              "      <td>00:01:45</td>\n",
              "      <td>0</td>\n",
              "      <td>Special Service</td>\n",
              "      <td>Special Service</td>\n",
              "      <td>Lift Release</td>\n",
              "      <td>Dwelling</td>\n",
              "      <td>Purpose Built Flats/Maisonettes - 4 to 9 storeys</td>\n",
              "      <td>...</td>\n",
              "      <td>NaN</td>\n",
              "      <td>NaN</td>\n",
              "      <td>NaN</td>\n",
              "      <td>NaN</td>\n",
              "      <td>1.0</td>\n",
              "      <td>1.0</td>\n",
              "      <td>1.0</td>\n",
              "      <td>1.0</td>\n",
              "      <td>333.0</td>\n",
              "      <td>2.0</td>\n",
              "    </tr>\n",
              "    <tr>\n",
              "      <th>1</th>\n",
              "      <td>000019-01012019</td>\n",
              "      <td>01 Jan 2019</td>\n",
              "      <td>2019</td>\n",
              "      <td>00:04:33</td>\n",
              "      <td>0</td>\n",
              "      <td>Fire</td>\n",
              "      <td>Secondary Fire</td>\n",
              "      <td>NaN</td>\n",
              "      <td>Outdoor</td>\n",
              "      <td>Tree scrub</td>\n",
              "      <td>...</td>\n",
              "      <td>357.0</td>\n",
              "      <td>Edmonton</td>\n",
              "      <td>NaN</td>\n",
              "      <td>NaN</td>\n",
              "      <td>1.0</td>\n",
              "      <td>1.0</td>\n",
              "      <td>1.0</td>\n",
              "      <td>1.0</td>\n",
              "      <td>333.0</td>\n",
              "      <td>1.0</td>\n",
              "    </tr>\n",
              "    <tr>\n",
              "      <th>2</th>\n",
              "      <td>000020-01012019</td>\n",
              "      <td>01 Jan 2019</td>\n",
              "      <td>2019</td>\n",
              "      <td>00:04:39</td>\n",
              "      <td>0</td>\n",
              "      <td>False Alarm</td>\n",
              "      <td>False alarm - Good intent</td>\n",
              "      <td>NaN</td>\n",
              "      <td>Outdoor</td>\n",
              "      <td>Domestic garden (vegetation not equipment)</td>\n",
              "      <td>...</td>\n",
              "      <td>318.0</td>\n",
              "      <td>Southgate</td>\n",
              "      <td>NaN</td>\n",
              "      <td>NaN</td>\n",
              "      <td>1.0</td>\n",
              "      <td>1.0</td>\n",
              "      <td>1.0</td>\n",
              "      <td>1.0</td>\n",
              "      <td>333.0</td>\n",
              "      <td>1.0</td>\n",
              "    </tr>\n",
              "    <tr>\n",
              "      <th>3</th>\n",
              "      <td>000021-01012019</td>\n",
              "      <td>01 Jan 2019</td>\n",
              "      <td>2019</td>\n",
              "      <td>00:04:44</td>\n",
              "      <td>0</td>\n",
              "      <td>False Alarm</td>\n",
              "      <td>AFA</td>\n",
              "      <td>NaN</td>\n",
              "      <td>Dwelling</td>\n",
              "      <td>Stately Home (part not open to public)</td>\n",
              "      <td>...</td>\n",
              "      <td>210.0</td>\n",
              "      <td>Kensington</td>\n",
              "      <td>NaN</td>\n",
              "      <td>NaN</td>\n",
              "      <td>1.0</td>\n",
              "      <td>1.0</td>\n",
              "      <td>1.0</td>\n",
              "      <td>1.0</td>\n",
              "      <td>333.0</td>\n",
              "      <td>1.0</td>\n",
              "    </tr>\n",
              "    <tr>\n",
              "      <th>4</th>\n",
              "      <td>000024-01012019</td>\n",
              "      <td>01 Jan 2019</td>\n",
              "      <td>2019</td>\n",
              "      <td>00:05:00</td>\n",
              "      <td>0</td>\n",
              "      <td>Special Service</td>\n",
              "      <td>Special Service</td>\n",
              "      <td>Lift Release</td>\n",
              "      <td>Dwelling</td>\n",
              "      <td>Purpose Built Flats/Maisonettes - 4 to 9 storeys</td>\n",
              "      <td>...</td>\n",
              "      <td>329.0</td>\n",
              "      <td>Bethnal Green</td>\n",
              "      <td>NaN</td>\n",
              "      <td>NaN</td>\n",
              "      <td>1.0</td>\n",
              "      <td>1.0</td>\n",
              "      <td>1.0</td>\n",
              "      <td>1.0</td>\n",
              "      <td>333.0</td>\n",
              "      <td>1.0</td>\n",
              "    </tr>\n",
              "  </tbody>\n",
              "</table>\n",
              "<p>5 rows × 39 columns</p>\n",
              "</div>\n",
              "      <button class=\"colab-df-convert\" onclick=\"convertToInteractive('df-d822836c-1fdd-4735-813f-1d5fb35b29ed')\"\n",
              "              title=\"Convert this dataframe to an interactive table.\"\n",
              "              style=\"display:none;\">\n",
              "        \n",
              "  <svg xmlns=\"http://www.w3.org/2000/svg\" height=\"24px\"viewBox=\"0 0 24 24\"\n",
              "       width=\"24px\">\n",
              "    <path d=\"M0 0h24v24H0V0z\" fill=\"none\"/>\n",
              "    <path d=\"M18.56 5.44l.94 2.06.94-2.06 2.06-.94-2.06-.94-.94-2.06-.94 2.06-2.06.94zm-11 1L8.5 8.5l.94-2.06 2.06-.94-2.06-.94L8.5 2.5l-.94 2.06-2.06.94zm10 10l.94 2.06.94-2.06 2.06-.94-2.06-.94-.94-2.06-.94 2.06-2.06.94z\"/><path d=\"M17.41 7.96l-1.37-1.37c-.4-.4-.92-.59-1.43-.59-.52 0-1.04.2-1.43.59L10.3 9.45l-7.72 7.72c-.78.78-.78 2.05 0 2.83L4 21.41c.39.39.9.59 1.41.59.51 0 1.02-.2 1.41-.59l7.78-7.78 2.81-2.81c.8-.78.8-2.07 0-2.86zM5.41 20L4 18.59l7.72-7.72 1.47 1.35L5.41 20z\"/>\n",
              "  </svg>\n",
              "      </button>\n",
              "      \n",
              "  <style>\n",
              "    .colab-df-container {\n",
              "      display:flex;\n",
              "      flex-wrap:wrap;\n",
              "      gap: 12px;\n",
              "    }\n",
              "\n",
              "    .colab-df-convert {\n",
              "      background-color: #E8F0FE;\n",
              "      border: none;\n",
              "      border-radius: 50%;\n",
              "      cursor: pointer;\n",
              "      display: none;\n",
              "      fill: #1967D2;\n",
              "      height: 32px;\n",
              "      padding: 0 0 0 0;\n",
              "      width: 32px;\n",
              "    }\n",
              "\n",
              "    .colab-df-convert:hover {\n",
              "      background-color: #E2EBFA;\n",
              "      box-shadow: 0px 1px 2px rgba(60, 64, 67, 0.3), 0px 1px 3px 1px rgba(60, 64, 67, 0.15);\n",
              "      fill: #174EA6;\n",
              "    }\n",
              "\n",
              "    [theme=dark] .colab-df-convert {\n",
              "      background-color: #3B4455;\n",
              "      fill: #D2E3FC;\n",
              "    }\n",
              "\n",
              "    [theme=dark] .colab-df-convert:hover {\n",
              "      background-color: #434B5C;\n",
              "      box-shadow: 0px 1px 3px 1px rgba(0, 0, 0, 0.15);\n",
              "      filter: drop-shadow(0px 1px 2px rgba(0, 0, 0, 0.3));\n",
              "      fill: #FFFFFF;\n",
              "    }\n",
              "  </style>\n",
              "\n",
              "      <script>\n",
              "        const buttonEl =\n",
              "          document.querySelector('#df-d822836c-1fdd-4735-813f-1d5fb35b29ed button.colab-df-convert');\n",
              "        buttonEl.style.display =\n",
              "          google.colab.kernel.accessAllowed ? 'block' : 'none';\n",
              "\n",
              "        async function convertToInteractive(key) {\n",
              "          const element = document.querySelector('#df-d822836c-1fdd-4735-813f-1d5fb35b29ed');\n",
              "          const dataTable =\n",
              "            await google.colab.kernel.invokeFunction('convertToInteractive',\n",
              "                                                     [key], {});\n",
              "          if (!dataTable) return;\n",
              "\n",
              "          const docLinkHtml = 'Like what you see? Visit the ' +\n",
              "            '<a target=\"_blank\" href=https://colab.research.google.com/notebooks/data_table.ipynb>data table notebook</a>'\n",
              "            + ' to learn more about interactive tables.';\n",
              "          element.innerHTML = '';\n",
              "          dataTable['output_type'] = 'display_data';\n",
              "          await google.colab.output.renderOutput(dataTable, element);\n",
              "          const docLink = document.createElement('div');\n",
              "          docLink.innerHTML = docLinkHtml;\n",
              "          element.appendChild(docLink);\n",
              "        }\n",
              "      </script>\n",
              "    </div>\n",
              "  </div>\n",
              "  "
            ]
          },
          "metadata": {},
          "execution_count": 6
        }
      ],
      "source": [
        "df.head()"
      ]
    },
    {
      "cell_type": "code",
      "execution_count": null,
      "metadata": {
        "id": "z7gzKu9txdD8"
      },
      "outputs": [],
      "source": [
        "pd.set_option('display.max_columns', None)"
      ]
    },
    {
      "cell_type": "code",
      "execution_count": null,
      "metadata": {
        "id": "3FXNikxU_VZ0"
      },
      "outputs": [],
      "source": [
        "pd.set_option('display.max_rows', None)"
      ]
    },
    {
      "cell_type": "code",
      "execution_count": null,
      "metadata": {
        "id": "ioULt3QbyE7y"
      },
      "outputs": [],
      "source": [
        "df.columns = df.columns.str.lower()"
      ]
    },
    {
      "cell_type": "code",
      "source": [
        "df.columns = ['incidentnumber', 'dateofcall', 'calyear', 'timeofcall', 'hourofcall',\n",
        "       'incidentgroup', 'stopcodedescription', 'specialservicetype',\n",
        "       'propertycategory', 'propertytype', 'addressqualifier', 'postcode_full',\n",
        "       'postcode_district', 'uprn', 'usrn', 'incgeo_boroughcode',\n",
        "       'incgeo_boroughname', 'propercase', 'incgeo_wardcode',\n",
        "       'incgeo_wardname', 'incgeo_wardnamenew', 'easting_m', 'northing_m',\n",
        "       'easting_rounded', 'northing_rounded', 'latitude', 'longitude', 'frs',\n",
        "       'incidentstationground', 'firstpumparriving_attendancetime',\n",
        "       'firstpumparriving_deployedfromstation',\n",
        "       'secondpumparriving_attendancetime',\n",
        "       'secondpumparriving_deployedfromstation',\n",
        "       'numstationswithpumpsattending', 'numpumpsattending', 'pumpcount',\n",
        "       'pumphoursroundup', 'notional_cost', 'numcalls']"
      ],
      "metadata": {
        "id": "red1sP2Wqe8x"
      },
      "execution_count": null,
      "outputs": []
    },
    {
      "cell_type": "code",
      "execution_count": null,
      "metadata": {
        "id": "DF-PZkkkzkss",
        "colab": {
          "base_uri": "https://localhost:8080/"
        },
        "outputId": "c7b3d2ee-7be3-4665-e2eb-b4c58b650108"
      },
      "outputs": [
        {
          "output_type": "execute_result",
          "data": {
            "text/plain": [
              "incidentnumber                            0.000000\n",
              "dateofcall                                0.000000\n",
              "calyear                                   0.000000\n",
              "timeofcall                                0.000000\n",
              "hourofcall                                0.000000\n",
              "incidentgroup                             0.000000\n",
              "stopcodedescription                       0.000000\n",
              "specialservicetype                        0.660494\n",
              "propertycategory                          0.000000\n",
              "propertytype                              0.000000\n",
              "addressqualifier                          0.000000\n",
              "postcode_full                             0.545731\n",
              "postcode_district                         0.000000\n",
              "uprn                                      0.000000\n",
              "usrn                                      0.000000\n",
              "incgeo_boroughcode                        0.000000\n",
              "incgeo_boroughname                        0.000000\n",
              "propercase                                0.000000\n",
              "incgeo_wardcode                           0.000003\n",
              "incgeo_wardname                           0.000003\n",
              "incgeo_wardnamenew                        0.000003\n",
              "easting_m                                 0.545731\n",
              "northing_m                                0.545731\n",
              "easting_rounded                           0.000000\n",
              "northing_rounded                          0.000000\n",
              "latitude                                  0.545731\n",
              "longitude                                 0.545731\n",
              "frs                                       0.000000\n",
              "incidentstationground                     0.000000\n",
              "firstpumparriving_attendancetime          0.059580\n",
              "firstpumparriving_deployedfromstation     0.059595\n",
              "secondpumparriving_attendancetime         0.620047\n",
              "secondpumparriving_deployedfromstation    0.620050\n",
              "numstationswithpumpsattending             0.012706\n",
              "numpumpsattending                         0.012706\n",
              "pumpcount                                 0.006343\n",
              "pumphoursroundup                          0.006659\n",
              "notional_cost                             0.006659\n",
              "numcalls                                  0.000012\n",
              "dtype: float64"
            ]
          },
          "metadata": {},
          "execution_count": 11
        }
      ],
      "source": [
        "df.isna().mean()"
      ]
    },
    {
      "cell_type": "code",
      "execution_count": null,
      "metadata": {
        "id": "FDhaNKsO0Z8S",
        "colab": {
          "base_uri": "https://localhost:8080/"
        },
        "outputId": "bb1e1553-3389-48ae-add5-81d81badcd4a"
      },
      "outputs": [
        {
          "output_type": "execute_result",
          "data": {
            "text/plain": [
              "331570"
            ]
          },
          "metadata": {},
          "execution_count": 12
        }
      ],
      "source": [
        "len(df)"
      ]
    },
    {
      "cell_type": "markdown",
      "metadata": {
        "id": "f6_lHEHC1REg"
      },
      "source": [
        "#Анализ"
      ]
    },
    {
      "cell_type": "code",
      "execution_count": null,
      "metadata": {
        "id": "m7mJX1v_11sn"
      },
      "outputs": [],
      "source": [
        "df.head()"
      ]
    },
    {
      "cell_type": "code",
      "execution_count": null,
      "metadata": {
        "id": "Jq03njnW32dm"
      },
      "outputs": [],
      "source": [
        "df.groupby(['stopcodedescription','incidentgroup','calyear'])['numcalls'].agg(['count','mean'])"
      ]
    },
    {
      "cell_type": "markdown",
      "source": [
        "По своднику выявили количество пожаров по годам, виды пожаров, количество ложных и не ложных вызовов."
      ],
      "metadata": {
        "id": "58s4QC5ZjHc4"
      }
    },
    {
      "cell_type": "code",
      "execution_count": null,
      "metadata": {
        "id": "9CNww6m8F61l"
      },
      "outputs": [],
      "source": [
        "df.groupby('incgeo_boroughname')['numcalls'].agg(['count','mean'])"
      ]
    },
    {
      "cell_type": "markdown",
      "source": [
        "Видим что в районе BARKING AND DAGENHAM больше всего вызовов"
      ],
      "metadata": {
        "id": "JfGDvJipjSAS"
      }
    },
    {
      "cell_type": "code",
      "execution_count": null,
      "metadata": {
        "id": "mW6yX0s9HC4v"
      },
      "outputs": [],
      "source": [
        "df.groupby(['incgeo_boroughname','calyear'],dropna=False)['numcalls'].mean().plot(figsize=(20,10))"
      ]
    },
    {
      "cell_type": "code",
      "execution_count": null,
      "metadata": {
        "id": "uYtzQ_l99f5N"
      },
      "outputs": [],
      "source": [
        "df.groupby(['incgeo_boroughname','stopcodedescription','incidentgroup','propertycategory','propertytype','calyear'],dropna=False)['numcalls'].agg(['count','mean'])"
      ]
    },
    {
      "cell_type": "markdown",
      "source": [
        "Больше всего пожаров в районе BARKING AND DAGENHAM  \t\n",
        "Первичных пожаров > в районе (3.2)  \n",
        "Вторичных пожаров < в районе (1.8)  \n",
        "Пожар из-за дымохода 1  \n",
        "Ложный вызовы с добрыми намерениями (1.16)   \n",
        "Ложный вызовы с недоброжелательными намерениями (1.14)  \n",
        "Ложные вызовы AFA-криминал (1.15)  \n",
        "\n",
        "\n"
      ],
      "metadata": {
        "id": "IskwLHEHySaO"
      }
    },
    {
      "cell_type": "markdown",
      "source": [
        "BARKING AND DAGENHAM, False Alarm - AFA, Dwelling, House - single occupancy - 256   \n",
        "BARKING AND DAGENHAM, False Alarm - AFA, Non Residential, Warehouse - 67  \n",
        "BARKING AND DAGENHAM, False Alarm - AFA, Other Residential, Retirement/Old Persons Home - 41  \n",
        "\n",
        "\n",
        "---\n",
        "\n",
        "\n",
        "BARKING AND DAGENHAM, False alarm - Good intent, Dwelling, House - single occupancy\t- 284  \n",
        "BARKING AND DAGENHAM, False alarm - Good intent, Non Residential, Single shop - 25  \n",
        "BARKING AND DAGENHAM, False alarm - Good intent, Other Residential, Retirement/Old Persons Home - 5  \n",
        "BARKING AND DAGENHAM, False alarm - Good intent, Outdoor, Domestic garden (vegetation not equipment) - 71  \n",
        "BARKING AND DAGENHAM, False alarm - Good intent, Outdoor Structure, Small refuse/rubbish container - 35  \n",
        "BARKING AND DAGENHAM, False alarm - Good intent, Road Vehicle, Car - 47  \n",
        "\n",
        "\n",
        "\n",
        "---\n",
        "\n",
        "BARKING AND DAGENHAM, False alarm - Malicious,\tDwelling, House - single occupancy - 25  \n",
        "BARKING AND DAGENHAM, False alarm - Malicious, Non Residential, Infant/Primary school, Secondary school, Single shop - 3  \n",
        "BARKING AND DAGENHAM, False alarm - Malicious, Outdoor, Loose refuse - 4  \n",
        "BARKING AND DAGENHAM, False alarm - Malicious, Outdoor Structure, Telephone box - 2  \n",
        "BARKING AND DAGENHAM, False alarm - Malicious, Road Vehicle, Motorcycle - 1\n",
        "\n",
        "---  \n",
        "\n",
        "BARKING AND DAGENHAM, Fire, Chimney Fire,\tDwelling,\tHouse - single occupancy - 1  \n",
        "BARKING AND DAGENHAM, Fire, Primary Fire,\tDwelling, House - single occupancy - 168  \n",
        "BARKING AND DAGENHAM, Fire, Primary Fire,\tNon Residential, Private Garden Shed - 21  \n",
        "BARKING AND DAGENHAM, Fire, Primary Fire,\tOther Residential, Hotel/motel - 4  \n",
        "BARKING AND DAGENHAM, Fire, Primary Fire,\tOutdoor, Other outdoor location - 1  \n",
        "BARKING AND DAGENHAM, Fire, Primary Fire,\tOutdoor Structure, Outdoor storage - 21  \n",
        "BARKING AND DAGENHAM, Fire, Primary Fire,\tRoad Vehicle, Car - 96  \n",
        "\n",
        "---\n",
        "\n",
        "BARKING AND DAGENHAM, Fire, Secondary Fire,\tNon Residential,\tPub/wine bar/bar - 1  \n",
        "BARKING AND DAGENHAM, Fire, Secondary Fire,\tOutdoor, Loose refuse - 103  \n",
        "BARKING AND DAGENHAM, Fire, Secondary Fire,\tOutdoor Structure, Small refuse/rubbish container - 140  \n",
        "BARKING AND DAGENHAM, Fire, Secondary Fire,\tRoad Vehicle, Motorcycle - 1  \n",
        "\n",
        "--- \n",
        "\n",
        "BARKING AND DAGENHAM, Special Service,\tFlood call attended - Batch mobilised,\tDwelling,\tHouse - single occupancy - 14  \n",
        "BARKING AND DAGENHAM, Special Service,\tFlood call attended - Batch mobilised,\tNon Residential, Restaurant/cafe - 1  \n",
        "BARKING AND DAGENHAM, Special Service,\tFlood call attended - Batch mobilised,\tOutdoor Structure,\tRoadside furniture (eg lamp posts/ road signs/ telegraph poles/ speed cameras) - 1  \n",
        "BARKING AND DAGENHAM, Special Service,\tBoat, Other vessel - 1  \n",
        "BARKING AND DAGENHAM, Special Service,\tDwelling, House - single occupancy - 575  \n",
        "BARKING AND DAGENHAM, Special Service,\tNon Residential, Fire station - 14  \n",
        "BARKING AND DAGENHAM, Special Service, Other Residential, Retirement/Old Persons Home - 18  \t\n",
        "BARKING AND DAGENHAM, Special Service, Outdoor, Road surface/pavement - 82  \t\n",
        "BARKING AND DAGENHAM, Special Service, Outdoor Structure, Fence - 6  \n",
        "BARKING AND DAGENHAM, Special Service, Rail Vehicle,\tPassenger Train (national rail network) - 2  \n",
        "BARKING AND DAGENHAM, Special Service, Road Vehicle, Car - 291  "
      ],
      "metadata": {
        "id": "_QKfvtQ2COKQ"
      }
    },
    {
      "cell_type": "markdown",
      "source": [
        "#Визуализация"
      ],
      "metadata": {
        "id": "PWu21ZULkXnw"
      }
    },
    {
      "cell_type": "code",
      "execution_count": null,
      "metadata": {
        "id": "psVn_1mrHJc9"
      },
      "outputs": [],
      "source": [
        "import seaborn as sns\n",
        "import matplotlib.pyplot as plt"
      ]
    },
    {
      "cell_type": "code",
      "execution_count": null,
      "metadata": {
        "id": "0FjjCNF5JMnT"
      },
      "outputs": [],
      "source": [
        "df['dateofcall'] = pd.to_datetime(df['dateofcall'])\n",
        "df['timeofcall'] = pd.to_datetime(df['timeofcall'])"
      ]
    },
    {
      "cell_type": "code",
      "execution_count": null,
      "metadata": {
        "id": "hezv-CMOJeW_"
      },
      "outputs": [],
      "source": [
        "time = df['dateofcall'].iloc[0]\n",
        "df['Hour'] = df['timeofcall'].apply(lambda time:time.hour)\n",
        "df['Month'] = df['dateofcall'].apply(lambda time:time.month)\n",
        "df['Day of Week'] = df['dateofcall'].apply(lambda time:time.dayofweek)"
      ]
    },
    {
      "cell_type": "code",
      "execution_count": null,
      "metadata": {
        "id": "2INObY9aP8ap"
      },
      "outputs": [],
      "source": [
        "dmap={0:'Mon',1:'Tue',2:'Wed',3:'Thu',4:'Fri',5:'Sat',6:'Sun'}\n",
        "df['Day of Week']= df['Day of Week'].map(dmap)"
      ]
    },
    {
      "cell_type": "code",
      "execution_count": null,
      "metadata": {
        "id": "SYvKI_LIQcqE"
      },
      "outputs": [],
      "source": [
        "sns.set(rc={'figure.figsize':(20,10)})\n",
        "sns.countplot(x='calyear',data=df, hue='propertycategory',palette='rocket')"
      ]
    },
    {
      "cell_type": "markdown",
      "source": [
        "На графике видим что в 2021 году было больше всего происшествий, по жилим помещениям.   \n",
        "В 2020 году большинство происшествий было на открытом воздухе.   \n",
        "В 2019 году больше всего происшествий было в нежилих помещениях.  \n",
        "\n",
        "Dwelling - Жилище  \n",
        "Outdoor - На открытом воздухе  \n",
        "Non Residential - Нежилое помещение  \n",
        "Outdoor Structure\t- Наружная конструкция  \n",
        "Road Vehicle - Дорожное транспортное средство  \n",
        "Other Residential - Другие жилые помещения  \n",
        "Rail Vehicle - Рельсовое транспортное средство  \n",
        "Aircraft - Воздушное судно  \n",
        "Boat - Лодка"
      ],
      "metadata": {
        "id": "m52cPzHBTHky"
      }
    },
    {
      "cell_type": "code",
      "source": [
        "df.head()"
      ],
      "metadata": {
        "id": "FDBE3jXbhFGL"
      },
      "execution_count": null,
      "outputs": []
    },
    {
      "cell_type": "markdown",
      "source": [
        "#Сводная таблица по экономике"
      ],
      "metadata": {
        "id": "mXyOQEWCwg-Q"
      }
    },
    {
      "cell_type": "code",
      "source": [
        "(df.groupby(['incgeo_boroughname','incidentgroup','calyear'],dropna=False)\n",
        "[['numcalls','numpumpsattending','pumphoursroundup','notional_cost']]\n",
        " .agg({'numcalls':['count','mean'],\n",
        "       'numpumpsattending':['mean'],\n",
        "       'pumphoursroundup':['mean'],\n",
        "       'notional_cost':['mean']}))"
      ],
      "metadata": {
        "id": "k-PJF27Akpew"
      },
      "execution_count": null,
      "outputs": []
    },
    {
      "cell_type": "markdown",
      "source": [
        "Район BARKING AND DAGENHAM  \n",
        "Ложные вызовы:  \n",
        "2019 - 391 (затраты)   \n",
        "2020 - 416  \n",
        "2021 - 417  \n",
        "2022 - 423  \n",
        "\n",
        "Пожары:   \n",
        "2019 - 845  \n",
        "2020 - 1815  \n",
        "2021 - 790  \n",
        "2022 - 1075  \n",
        "\n",
        "Специальное обслуживание:  \n",
        "2019 - 449  \n",
        "2020 - 442  \n",
        "2021 - 428  \n",
        "2022 - 438  "
      ],
      "metadata": {
        "id": "V7l2yRhrtgIV"
      }
    }
  ],
  "metadata": {
    "colab": {
      "collapsed_sections": [],
      "name": "Fire cases",
      "provenance": [],
      "authorship_tag": "ABX9TyPJt99vYCXSInYJeSFwrsKk",
      "include_colab_link": true
    },
    "kernelspec": {
      "display_name": "Python 3",
      "name": "python3"
    },
    "language_info": {
      "name": "python"
    }
  },
  "nbformat": 4,
  "nbformat_minor": 0
}